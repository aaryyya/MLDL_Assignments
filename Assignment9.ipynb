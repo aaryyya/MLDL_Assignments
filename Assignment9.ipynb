{
  "cells": [
    {
      "cell_type": "markdown",
      "metadata": {
        "id": "view-in-github",
        "colab_type": "text"
      },
      "source": [
        "<a href=\"https://colab.research.google.com/github/aaryyya/MLDL_Assignments/blob/main/Assignment9.ipynb\" target=\"_parent\"><img src=\"https://colab.research.google.com/assets/colab-badge.svg\" alt=\"Open In Colab\"/></a>"
      ]
    },
    {
      "cell_type": "code",
      "source": [
        "import numpy as np\n",
        "import pandas as pd\n",
        "from sklearn.feature_extraction.text import TfidfVectorizer\n",
        "from sklearn.cluster import KMeans\n",
        "from sklearn.model_selection import train_test_split\n",
        "from sklearn.ensemble import RandomForestClassifier\n",
        "from sklearn.metrics import accuracy_score\n",
        "\n",
        "# Sample unstructured text data\n",
        "unstructured_data = [\n",
        "   \"Berkshire retains and reinvests earnings when doing so delivers\" ,\n",
        "\"at least proportional increases in per share market value over time.\",\n",
        "    \"It uses debt sparingly and sells equity only when\",\n",
        "   \"it receives as much in value as it gives.\",\n",
        "    \"Buffett penetrates accounting conventions, especially\",\n",
        "    \"those that obscure real economic earnings.\"\n",
        "\n",
        "]\n",
        "\n",
        "# Convert text data into numerical features using TF-IDF vectorization\n",
        "tfidf_vectorizer = TfidfVectorizer()\n",
        "X = tfidf_vectorizer.fit_transform(unstructured_data)\n",
        "\n",
        "# Apply clustering to generate pseudo-labels\n",
        "num_clusters = 2  # Assume we categorize data into two classes\n",
        "kmeans = KMeans(n_clusters=num_clusters, random_state=42)\n",
        "pseudo_labels = kmeans.fit_predict(X)\n",
        "\n",
        "# Create a structured dataset\n",
        "df = pd.DataFrame({'Text': unstructured_data, 'Label': pseudo_labels})\n",
        "print(\"Structured Data:\")\n",
        "print(df)\n",
        "\n",
        "# Split the data into training and testing sets\n",
        "X_train, X_test, y_train, y_test = train_test_split(X, pseudo_labels, test_size=0.2, random_state=42)\n",
        "\n",
        "# Train a supervised model (Random Forest Classifier)\n",
        "clf = RandomForestClassifier(n_estimators=100, random_state=42)\n",
        "clf.fit(X_train, y_train)\n",
        "\n",
        "# Predict labels for the test set\n",
        "y_pred = clf.predict(X_test)\n",
        "\n",
        "# Evaluate the model\n",
        "accuracy = accuracy_score(y_test, y_pred)\n",
        "print(f\"Model Accuracy: {accuracy:.2f}\")\n",
        "\n",
        "# Predict labels for new unstructured data\n",
        "new_data = [\"Bufffet penetrates\", \"obscure tells u something insignificant paper\"]\n",
        "new_X = tfidf_vectorizer.transform(new_data)\n",
        "new_predictions = clf.predict(new_X)\n",
        "\n",
        "# Display predictions\n",
        "for text, label in zip(new_data, new_predictions):\n",
        "    print(f\"Text: {text} => Predicted Label: {label}\")\n"
      ],
      "outputs": [
        {
          "output_type": "stream",
          "name": "stdout",
          "text": [
            "Structured Data:\n",
            "                                                Text  Label\n",
            "0  Berkshire retains and reinvests earnings when ...      0\n",
            "1  at least proportional increases in per share m...      0\n",
            "2  It uses debt sparingly and sells equity only when      0\n",
            "3          it receives as much in value as it gives.      0\n",
            "4  Buffett penetrates accounting conventions, esp...      0\n",
            "5         those that obscure real economic earnings.      1\n",
            "Model Accuracy: 1.00\n",
            "Text: Bufffet penetrates => Predicted Label: 0\n",
            "Text: obscure tells u something insignificant paper => Predicted Label: 0\n"
          ]
        }
      ],
      "execution_count": null,
      "metadata": {
        "colab": {
          "base_uri": "https://localhost:8080/"
        },
        "id": "KmCYka7p4-oY",
        "outputId": "3be4ffbe-d7e7-400a-daa1-70c879354c95"
      }
    },
    {
      "cell_type": "markdown",
      "source": [
        "**Explanation:**\n",
        "\n",
        "1. **Data Preparation:**\n",
        "   - **Import libraries:** Import necessary libraries like pandas, TF-IDF vectorizer, Logistic Regression, and evaluation metrics from scikit-learn.\n",
        "   - **Sample data:** Create a list of unstructured text data (replace with your actual data).\n",
        "   - **Text preprocessing:** Define a function to clean the text by removing punctuation and converting to lowercase. Apply this function to your data.\n",
        "   - **Feature extraction:** Use TF-IDF vectorizer to convert text into numerical features.\n",
        "\n",
        "2. **Labeling:**\n",
        "   - **Manual labeling:** Manually assign labels to your data based on your understanding of the categories (e.g., positive/negative sentiment).\n",
        "\n",
        "3. **Model Training:**\n",
        "   - **Data splitting:** Split your data into training and testing sets.\n",
        "   - **Model selection:** Choose a supervised learning algorithm like Logistic Regression.\n",
        "   - **Training:** Train the model using the training data.\n",
        "\n",
        "4. **Prediction on New Data:**\n",
        "   - **Preprocess new data:** Apply the same preprocessing steps to any new data you want to label.\n",
        "   - **Prediction:** Use the trained model to predict labels for the new data.\n",
        "\n",
        "**Key points:**\n",
        "\n",
        "* **Data Cleaning and Feature Engineering:** The most crucial step is to properly clean and transform unstructured data into meaningful features.\n",
        "* **Labeling Strategy:** Depending on your data, you may need to develop a more sophisticated labeling strategy, possibly involving domain experts or active learning techniques.\n",
        "* **Model Selection:** Choose a supervised learning algorithm suitable for your task (classification, regression) and data characteristics.\n",
        "* **Evaluation:** Always evaluate your model's performance using metrics like accuracy, precision, recall, etc.\n",
        "* **Real-world considerations:** For large datasets, consider techniques like data augmentation, advanced feature engineering, and hyperparameter tuning for better model performance.\n",
        "\n",
        "**Important Note:** This example uses a simple text classification scenario. Adapt the preprocessing, feature engineering, and model selection based on the specific type of unstructured data you are working with."
      ],
      "metadata": {
        "id": "F8f0RIg34-ob"
      }
    }
  ],
  "metadata": {
    "colab": {
      "provenance": [],
      "include_colab_link": true
    },
    "kernelspec": {
      "display_name": "Python 3",
      "name": "python3"
    }
  },
  "nbformat": 4,
  "nbformat_minor": 0
}