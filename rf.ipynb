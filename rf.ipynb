{
  "nbformat": 4,
  "nbformat_minor": 0,
  "metadata": {
    "colab": {
      "provenance": [],
      "gpuType": "V28",
      "authorship_tag": "ABX9TyOVwgRNDMYjU+At389u1Zy2",
      "include_colab_link": true
    },
    "kernelspec": {
      "name": "python3",
      "display_name": "Python 3"
    },
    "language_info": {
      "name": "python"
    },
    "accelerator": "TPU"
  },
  "cells": [
    {
      "cell_type": "markdown",
      "metadata": {
        "id": "view-in-github",
        "colab_type": "text"
      },
      "source": [
        "<a href=\"https://colab.research.google.com/github/aaryyya/MLDL_Assignments/blob/main/rf.ipynb\" target=\"_parent\"><img src=\"https://colab.research.google.com/assets/colab-badge.svg\" alt=\"Open In Colab\"/></a>"
      ]
    },
    {
      "cell_type": "code",
      "source": [
        "!pip install optuna"
      ],
      "metadata": {
        "colab": {
          "base_uri": "https://localhost:8080/"
        },
        "id": "YQeD32teagk-",
        "outputId": "a2ac7ee7-f5cc-498b-9d09-40a5bb265e87"
      },
      "execution_count": 5,
      "outputs": [
        {
          "output_type": "stream",
          "name": "stdout",
          "text": [
            "Requirement already satisfied: optuna in /usr/local/lib/python3.11/dist-packages (4.3.0)\n",
            "Requirement already satisfied: alembic>=1.5.0 in /usr/local/lib/python3.11/dist-packages (from optuna) (1.15.2)\n",
            "Requirement already satisfied: colorlog in /usr/local/lib/python3.11/dist-packages (from optuna) (6.9.0)\n",
            "Requirement already satisfied: numpy in /usr/local/lib/python3.11/dist-packages (from optuna) (2.0.2)\n",
            "Requirement already satisfied: packaging>=20.0 in /usr/local/lib/python3.11/dist-packages (from optuna) (24.2)\n",
            "Requirement already satisfied: sqlalchemy>=1.4.2 in /usr/local/lib/python3.11/dist-packages (from optuna) (2.0.40)\n",
            "Requirement already satisfied: tqdm in /usr/local/lib/python3.11/dist-packages (from optuna) (4.67.1)\n",
            "Requirement already satisfied: PyYAML in /usr/local/lib/python3.11/dist-packages (from optuna) (6.0.2)\n",
            "Requirement already satisfied: Mako in /usr/lib/python3/dist-packages (from alembic>=1.5.0->optuna) (1.1.3)\n",
            "Requirement already satisfied: typing-extensions>=4.12 in /usr/local/lib/python3.11/dist-packages (from alembic>=1.5.0->optuna) (4.13.1)\n",
            "Requirement already satisfied: greenlet>=1 in /usr/local/lib/python3.11/dist-packages (from sqlalchemy>=1.4.2->optuna) (3.2.0)\n"
          ]
        }
      ]
    },
    {
      "cell_type": "code",
      "execution_count": 6,
      "metadata": {
        "colab": {
          "base_uri": "https://localhost:8080/",
          "height": 890
        },
        "id": "e4CvacwIn7yQ",
        "outputId": "fa3d0ef9-b2a2-4acc-c4fd-f87bc81e178f"
      },
      "outputs": [
        {
          "metadata": {
            "tags": null
          },
          "name": "stderr",
          "output_type": "stream",
          "text": [
            "[I 2025-04-16 07:05:49,753] A new study created in memory with name: no-name-4ef4d65c-cf88-480d-8119-dc05dadc7abc\n"
          ]
        },
        {
          "metadata": {
            "tags": null
          },
          "name": "stdout",
          "output_type": "stream",
          "text": [
            "🔧 Running quick Optuna tuning...\n"
          ]
        },
        {
          "metadata": {
            "tags": null
          },
          "name": "stderr",
          "output_type": "stream",
          "text": [
            "[I 2025-04-16 07:05:53,384] Trial 0 finished with value: 0.8579088471849866 and parameters: {'n_estimators': 111, 'max_depth': 10, 'min_samples_split': 4, 'min_samples_leaf': 3, 'max_features': 'log2'}. Best is trial 0 with value: 0.8579088471849866.\n",
            "[I 2025-04-16 07:05:58,141] Trial 1 finished with value: 0.8806970509383378 and parameters: {'n_estimators': 99, 'max_depth': 16, 'min_samples_split': 2, 'min_samples_leaf': 2, 'max_features': 'sqrt'}. Best is trial 1 with value: 0.8806970509383378.\n",
            "[I 2025-04-16 07:06:15,898] Trial 2 finished with value: 0.8548927613941019 and parameters: {'n_estimators': 140, 'max_depth': 8, 'min_samples_split': 3, 'min_samples_leaf': 1, 'max_features': None}. Best is trial 1 with value: 0.8806970509383378.\n",
            "[I 2025-04-16 07:06:18,140] Trial 3 finished with value: 0.8780160857908847 and parameters: {'n_estimators': 50, 'max_depth': 15, 'min_samples_split': 3, 'min_samples_leaf': 3, 'max_features': 'log2'}. Best is trial 1 with value: 0.8806970509383378.\n",
            "[I 2025-04-16 07:06:43,636] Trial 4 finished with value: 0.8857238605898123 and parameters: {'n_estimators': 94, 'max_depth': 20, 'min_samples_split': 7, 'min_samples_leaf': 1, 'max_features': None}. Best is trial 4 with value: 0.8857238605898123.\n",
            "[I 2025-04-16 07:06:47,958] Trial 5 finished with value: 0.8542225201072386 and parameters: {'n_estimators': 148, 'max_depth': 9, 'min_samples_split': 2, 'min_samples_leaf': 5, 'max_features': 'sqrt'}. Best is trial 4 with value: 0.8857238605898123.\n",
            "[I 2025-04-16 07:06:53,776] Trial 6 finished with value: 0.8766756032171582 and parameters: {'n_estimators': 122, 'max_depth': 15, 'min_samples_split': 2, 'min_samples_leaf': 1, 'max_features': 'log2'}. Best is trial 4 with value: 0.8857238605898123.\n",
            "[I 2025-04-16 07:06:57,092] Trial 7 finished with value: 0.8656166219839142 and parameters: {'n_estimators': 103, 'max_depth': 10, 'min_samples_split': 7, 'min_samples_leaf': 3, 'max_features': 'sqrt'}. Best is trial 4 with value: 0.8857238605898123.\n",
            "[I 2025-04-16 07:06:59,396] Trial 8 finished with value: 0.8421581769436998 and parameters: {'n_estimators': 112, 'max_depth': 6, 'min_samples_split': 8, 'min_samples_leaf': 4, 'max_features': 'log2'}. Best is trial 4 with value: 0.8857238605898123.\n",
            "[I 2025-04-16 07:07:01,715] Trial 9 finished with value: 0.842828418230563 and parameters: {'n_estimators': 113, 'max_depth': 6, 'min_samples_split': 9, 'min_samples_leaf': 5, 'max_features': 'log2'}. Best is trial 4 with value: 0.8857238605898123.\n"
          ]
        },
        {
          "output_type": "stream",
          "name": "stdout",
          "text": [
            "✅ Best Params: {'n_estimators': 94, 'max_depth': 20, 'min_samples_split': 7, 'min_samples_leaf': 1, 'max_features': None}\n",
            "\n",
            "📊 Classification Report:\n",
            "\n",
            "              precision    recall  f1-score   support\n",
            "\n",
            "           0       1.00      0.93      0.96        28\n",
            "           1       0.65      0.54      0.59        41\n",
            "           2       1.00      0.86      0.92        35\n",
            "           3       1.00      0.17      0.29         6\n",
            "           4       0.97      0.84      0.90        38\n",
            "           5       0.64      0.50      0.56        32\n",
            "           6       0.95      0.97      0.96        38\n",
            "           7       0.91      0.97      0.94        32\n",
            "           8       0.50      0.38      0.43        24\n",
            "           9       0.56      0.41      0.47        37\n",
            "          10       0.89      0.40      0.55        20\n",
            "          11       0.92      1.00      0.96       626\n",
            "\n",
            "    accuracy                           0.89       957\n",
            "   macro avg       0.83      0.66      0.71       957\n",
            "weighted avg       0.88      0.89      0.88       957\n",
            "\n",
            "🎯 Accuracy: 0.8903\n",
            "\n",
            "📈 Running SHAP analysis...\n"
          ]
        },
        {
          "output_type": "error",
          "ename": "NameError",
          "evalue": "name 'shap' is not defined",
          "traceback": [
            "\u001b[0;31m---------------------------------------------------------------------------\u001b[0m",
            "\u001b[0;31mNameError\u001b[0m                                 Traceback (most recent call last)",
            "\u001b[0;32m<ipython-input-6-82128c17891f>\u001b[0m in \u001b[0;36m<cell line: 0>\u001b[0;34m()\u001b[0m\n\u001b[1;32m     82\u001b[0m \u001b[0;31m# === SHAP Explanation ===\u001b[0m\u001b[0;34m\u001b[0m\u001b[0;34m\u001b[0m\u001b[0m\n\u001b[1;32m     83\u001b[0m \u001b[0mprint\u001b[0m\u001b[0;34m(\u001b[0m\u001b[0;34m\"\\n📈 Running SHAP analysis...\"\u001b[0m\u001b[0;34m)\u001b[0m\u001b[0;34m\u001b[0m\u001b[0;34m\u001b[0m\u001b[0m\n\u001b[0;32m---> 84\u001b[0;31m \u001b[0mexplainer\u001b[0m \u001b[0;34m=\u001b[0m \u001b[0mshap\u001b[0m\u001b[0;34m.\u001b[0m\u001b[0mTreeExplainer\u001b[0m\u001b[0;34m(\u001b[0m\u001b[0mbest_model\u001b[0m\u001b[0;34m.\u001b[0m\u001b[0mget_booster\u001b[0m\u001b[0;34m(\u001b[0m\u001b[0;34m)\u001b[0m\u001b[0;34m)\u001b[0m\u001b[0;34m\u001b[0m\u001b[0;34m\u001b[0m\u001b[0m\n\u001b[0m\u001b[1;32m     85\u001b[0m \u001b[0;34m\u001b[0m\u001b[0m\n\u001b[1;32m     86\u001b[0m \u001b[0;34m\u001b[0m\u001b[0m\n",
            "\u001b[0;31mNameError\u001b[0m: name 'shap' is not defined"
          ]
        }
      ],
      "source": [
        "import pandas as pd\n",
        "from sklearn.preprocessing import StandardScaler, LabelEncoder\n",
        "from sklearn.ensemble import RandomForestClassifier\n",
        "from sklearn.metrics import classification_report, accuracy_score\n",
        "from sklearn.model_selection import train_test_split\n",
        "import optuna\n",
        "import warnings\n",
        "\n",
        "warnings.filterwarnings(\"ignore\")\n",
        "\n",
        "# === Load datasets ===\n",
        "df_num = pd.read_csv(\"preprocessed_dataset.csv\")\n",
        "df_train_img = pd.read_csv(\"extracted_features_train.csv\")\n",
        "df_test_img = pd.read_csv(\"extracted_features_test.csv\")\n",
        "\n",
        "label_col = 'trojan_type'\n",
        "features_to_scale = [col for col in df_num.columns if col != label_col]\n",
        "\n",
        "# === Validate dataset sizes ===\n",
        "total_needed = len(df_train_img) + len(df_test_img)\n",
        "if len(df_num) < total_needed:\n",
        "    raise ValueError(f\"preprocessed_dataset.csv must have at least {total_needed} rows.\")\n",
        "\n",
        "# === Split data ===\n",
        "num_train = df_num.iloc[:len(df_train_img)].reset_index(drop=True)\n",
        "num_test = df_num.iloc[len(df_train_img):len(df_train_img) + len(df_test_img)].reset_index(drop=True)\n",
        "\n",
        "scaler = StandardScaler()\n",
        "scaled_train = scaler.fit_transform(num_train[features_to_scale])\n",
        "scaled_test = scaler.transform(num_test[features_to_scale])\n",
        "\n",
        "scaled_train_df = pd.DataFrame(scaled_train, columns=features_to_scale)\n",
        "scaled_test_df = pd.DataFrame(scaled_test, columns=features_to_scale)\n",
        "\n",
        "df_train_img = df_train_img.select_dtypes(include=['number']).reset_index(drop=True)\n",
        "df_test_img = df_test_img.select_dtypes(include=['number']).reset_index(drop=True)\n",
        "\n",
        "X_train_full = pd.concat([df_train_img, scaled_train_df], axis=1)\n",
        "X_test = pd.concat([df_test_img, scaled_test_df], axis=1)\n",
        "\n",
        "le = LabelEncoder()\n",
        "y_train_full = le.fit_transform(num_train[label_col])\n",
        "y_test = le.transform(num_test[label_col])\n",
        "\n",
        "# === Use validation split for tuning ===\n",
        "X_train, X_val, y_train, y_val = train_test_split(X_train_full, y_train_full, test_size=0.2, random_state=42, stratify=y_train_full)\n",
        "\n",
        "# === Optuna Objective ===\n",
        "def objective(trial):\n",
        "    params = {\n",
        "        'n_estimators': trial.suggest_int('n_estimators', 50, 150),\n",
        "        'max_depth': trial.suggest_int('max_depth', 5, 20),\n",
        "        'min_samples_split': trial.suggest_int('min_samples_split', 2, 10),\n",
        "        'min_samples_leaf': trial.suggest_int('min_samples_leaf', 1, 5),\n",
        "        'max_features': trial.suggest_categorical('max_features', ['sqrt', 'log2', None]),\n",
        "        'random_state': 42\n",
        "    }\n",
        "    model = RandomForestClassifier(**params)\n",
        "    model.fit(X_train, y_train)\n",
        "    preds = model.predict(X_val)\n",
        "    return accuracy_score(y_val, preds)\n",
        "\n",
        "# === Run Optuna Tuning (fast) ===\n",
        "print(\"🔧 Running quick Optuna tuning...\")\n",
        "study = optuna.create_study(direction='maximize')\n",
        "study.optimize(objective, n_trials=10)\n",
        "\n",
        "# === Train final model ===\n",
        "print(\"✅ Best Params:\", study.best_trial.params)\n",
        "best_model = RandomForestClassifier(**study.best_trial.params)\n",
        "best_model.fit(X_train_full, y_train_full)\n",
        "\n",
        "# === Evaluate on test set ===\n",
        "y_pred = best_model.predict(X_test)\n",
        "\n",
        "print(\"\\n📊 Classification Report:\\n\")\n",
        "print(classification_report(y_test, y_pred, target_names=le.classes_.astype(str)))\n",
        "print(f\"🎯 Accuracy: {accuracy_score(y_test, y_pred):.4f}\")\n",
        "\n",
        "\n",
        "\n",
        "# === SHAP Explanation ===\n",
        "print(\"\\n📈 Running SHAP analysis...\")\n",
        "explainer = shap.TreeExplainer(best_model.get_booster())\n",
        "\n",
        "\n",
        "shap_values = explainer.shap_values(X_test)\n",
        "\n",
        "\n",
        "# SHAP summary plot\n",
        "shap.summary_plot(shap_values, X_test, show=False)\n",
        "plt.savefig(\"shap_summary_xgb.png\", bbox_inches='tight')\n",
        "print(\"✅ SHAP summary saved as 'shap_summary_xgb.png'.\")\n",
        "\n",
        "# === CRL-like Causal Inference using DRLearner ===\n",
        "print(\"\\n🧠 Estimating causal effect of predicted classes using DRLearner...\")\n",
        "\n",
        "# Create outcome: 1 if model predicted correctly, else 0\n",
        "y_true_decoded = le.inverse_transform(y_test)\n",
        "y_pred_decoded = le.inverse_transform(y_pred)\n",
        "correctness = (y_true_decoded == y_pred_decoded).astype(int)\n",
        "\n",
        "# Sample for fast demo\n",
        "sample_n = 300\n",
        "X_sample = X_test[:sample_n]\n",
        "T_sample = y_pred[:sample_n]        # action = model's predicted class\n",
        "Y_sample = correctness[:sample_n]   # outcome = whether prediction was correct\n",
        "\n",
        "# Fit DRLearner\n",
        "dr_learner = DRLearner(\n",
        "    model_regression=RandomForestRegressor(n_estimators=100, random_state=0),\n",
        "    model_propensity=RandomForestClassifier(n_estimators=100, random_state=0),\n",
        "    model_final=RandomForestRegressor()\n",
        ")\n",
        "dr_learner.fit(Y_sample, T_sample, X=X_sample)\n",
        "\n",
        "# Estimate effect of assigning each class\n",
        "unique_classes = np.unique(T_sample)\n",
        "print(\"\\n🔍 Estimated Causal Effects (Average treatment effect if predicted class was X):\")\n",
        "for c in unique_classes:\n",
        "    effect = dr_learner.effect(X_sample, T0=c)\n",
        "    print(f\"  Class {le.inverse_transform([c])[0]}: Mean Causal Effect = {np.mean(effect):.4f}\")\n"
      ]
    },
    {
      "cell_type": "code",
      "source": [
        "!pip install shap\n"
      ],
      "metadata": {
        "colab": {
          "base_uri": "https://localhost:8080/"
        },
        "id": "LQAcRqhBbbEj",
        "outputId": "bf4d8cee-7951-4573-a771-3837183bb1d1"
      },
      "execution_count": 8,
      "outputs": [
        {
          "output_type": "stream",
          "name": "stdout",
          "text": [
            "Collecting shap\n",
            "  Downloading shap-0.47.1-cp311-cp311-manylinux_2_17_x86_64.manylinux2014_x86_64.whl.metadata (25 kB)\n",
            "Requirement already satisfied: numpy in /usr/local/lib/python3.11/dist-packages (from shap) (2.0.2)\n",
            "Requirement already satisfied: scipy in /usr/local/lib/python3.11/dist-packages (from shap) (1.14.1)\n",
            "Requirement already satisfied: scikit-learn in /usr/local/lib/python3.11/dist-packages (from shap) (1.6.1)\n",
            "Requirement already satisfied: pandas in /usr/local/lib/python3.11/dist-packages (from shap) (2.2.2)\n",
            "Requirement already satisfied: tqdm>=4.27.0 in /usr/local/lib/python3.11/dist-packages (from shap) (4.67.1)\n",
            "Requirement already satisfied: packaging>20.9 in /usr/local/lib/python3.11/dist-packages (from shap) (24.2)\n",
            "Collecting slicer==0.0.8 (from shap)\n",
            "  Downloading slicer-0.0.8-py3-none-any.whl.metadata (4.0 kB)\n",
            "Requirement already satisfied: numba>=0.54 in /usr/local/lib/python3.11/dist-packages (from shap) (0.61.2)\n",
            "Requirement already satisfied: cloudpickle in /usr/local/lib/python3.11/dist-packages (from shap) (3.1.1)\n",
            "Requirement already satisfied: typing-extensions in /usr/local/lib/python3.11/dist-packages (from shap) (4.13.1)\n",
            "Requirement already satisfied: llvmlite<0.45,>=0.44.0dev0 in /usr/local/lib/python3.11/dist-packages (from numba>=0.54->shap) (0.44.0)\n",
            "Requirement already satisfied: python-dateutil>=2.8.2 in /usr/local/lib/python3.11/dist-packages (from pandas->shap) (2.9.0.post0)\n",
            "Requirement already satisfied: pytz>=2020.1 in /usr/local/lib/python3.11/dist-packages (from pandas->shap) (2025.2)\n",
            "Requirement already satisfied: tzdata>=2022.7 in /usr/local/lib/python3.11/dist-packages (from pandas->shap) (2025.2)\n",
            "Requirement already satisfied: joblib>=1.2.0 in /usr/local/lib/python3.11/dist-packages (from scikit-learn->shap) (1.4.2)\n",
            "Requirement already satisfied: threadpoolctl>=3.1.0 in /usr/local/lib/python3.11/dist-packages (from scikit-learn->shap) (3.6.0)\n",
            "Requirement already satisfied: six>=1.5 in /usr/local/lib/python3.11/dist-packages (from python-dateutil>=2.8.2->pandas->shap) (1.17.0)\n",
            "Downloading shap-0.47.1-cp311-cp311-manylinux_2_17_x86_64.manylinux2014_x86_64.whl (972 kB)\n",
            "\u001b[2K   \u001b[90m━━━━━━━━━━━━━━━━━━━━━━━━━━━━━━━━━━━━━━━━\u001b[0m \u001b[32m972.6/972.6 kB\u001b[0m \u001b[31m8.3 MB/s\u001b[0m eta \u001b[36m0:00:00\u001b[0m\n",
            "\u001b[?25hDownloading slicer-0.0.8-py3-none-any.whl (15 kB)\n",
            "Installing collected packages: slicer, shap\n",
            "Successfully installed shap-0.47.1 slicer-0.0.8\n"
          ]
        }
      ]
    },
    {
      "cell_type": "code",
      "source": [
        "import shap\n",
        "import matplotlib.pyplot as plt\n",
        "\n",
        "# === SHAP Explanation ===\n",
        "print(\"\\n📈 Running SHAP analysis...\")\n",
        "\n",
        "explainer = shap.TreeExplainer(best_model)\n",
        "shap_values = explainer.shap_values(X_test)\n",
        "\n",
        "# SHAP summary plot\n",
        "shap.summary_plot(shap_values, X_test, show=False)\n",
        "plt.savefig(\"shap_summary_rf.png\", bbox_inches='tight')\n",
        "print(\"✅ SHAP summary saved as 'shap_summary_rf.png'.\")\n"
      ],
      "metadata": {
        "colab": {
          "base_uri": "https://localhost:8080/",
          "height": 475
        },
        "id": "HGNt2jaybX2d",
        "outputId": "d2f49621-1696-4837-b67c-21ed3ffb3870"
      },
      "execution_count": 9,
      "outputs": [
        {
          "output_type": "stream",
          "name": "stdout",
          "text": [
            "\n",
            "📈 Running SHAP analysis...\n",
            "✅ SHAP summary saved as 'shap_summary_rf.png'.\n"
          ]
        },
        {
          "output_type": "display_data",
          "data": {
            "text/plain": [
              "<Figure size 640x480 with 0 Axes>"
            ]
          },
          "metadata": {}
        },
        {
          "output_type": "display_data",
          "data": {
            "text/plain": [
              "<Figure size 1150x660 with 1 Axes>"
            ],
            "image/png": "[encoded data removed]"
          },
          "metadata": {}
        }
      ]
    }
  ]
}